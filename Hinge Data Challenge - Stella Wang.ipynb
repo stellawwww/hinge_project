{
 "cells": [
  {
   "cell_type": "markdown",
   "id": "ea5f6e5a",
   "metadata": {},
   "source": [
    "# Hinge Data Challenge\n",
    "### by Stella Wang"
   ]
  },
  {
   "cell_type": "markdown",
   "id": "df4c7320",
   "metadata": {},
   "source": [
    "In this project, we will answer four questions in the Hinge Data Challenge sequentially. "
   ]
  },
  {
   "cell_type": "markdown",
   "id": "c9fe1b39",
   "metadata": {},
   "source": [
    "## Table of contents\n",
    "- [Question 1](#Question1)\n",
    "- [Question 2](#Question2)\n",
    "- [Question 3](#Question3)\n",
    "- [Question 4](#Question4)"
   ]
  },
  {
   "cell_type": "markdown",
   "id": "0253f9ab",
   "metadata": {},
   "source": [
    "----\n",
    "<a id='Question1'></a>\n",
    "## Question 1\n",
    "Using only information in the datasets provided, how would you define the next-day retention rate of new users? (We will henceforth call this “retention rate.”) State your definition in a way that someone else can compute the metric unambiguously, and provide your reasoning for your approach.\n",
    "\n",
    "[[ go back to the top ]](#Table-of-contents)"
   ]
  },
  {
   "cell_type": "markdown",
   "id": "93c1529c",
   "metadata": {},
   "source": [
    "There are two ways to define the `next-day retention rate`. One is through calculating it using a 24 hours window, another by strict calendar date. <br>\n",
    "\n",
    "For example, when calculating by 24 hours window, if a user registration date was `2018-11-13 23:10:00`, we count `2018-11-13 23:10:00 ~ 2018-11-14 23:10:00` as the Day 0, and the next-day from `2018-11-15 23:10:00 ~ 2018-11-16 23:10:00 ` (as Day1). <br>\n",
    "\n",
    "If we calculate by strict calendar date, it means `2018-11-13` is the Day 0 even though `2018-11-13 23:10:00` is almost the end of the day, and `2018-11-14` is the next-day time range. When time sensitive, we should use strict calendar date because it only takes 24 hours to get the data. \n",
    "\n",
    "In this analysis, let's assume we wanted to get an accurate `next-day retention rate` and we can afford waiting for two days to get retention rate. \n",
    "\n"
   ]
  },
  {
   "cell_type": "markdown",
   "id": "08180b10",
   "metadata": {},
   "source": [
    "Assumption:\n",
    "- Assume `active user` is defined as an user who has a rating record, it doesn't matter if the user is sending likes or skips \n",
    "- Assume `Number of new user in a given date` means number of users who registered the app on a given date\n",
    "- The `next day retention rate` is calculated by 24 hours window."
   ]
  },
  {
   "cell_type": "markdown",
   "id": "28a0d69b",
   "metadata": {},
   "source": [
    "<b> Next-day retention rate = Number of unique users who were active on the next day / Number of unique new users in a given date </b>"
   ]
  },
  {
   "cell_type": "markdown",
   "id": "2e470f3f",
   "metadata": {},
   "source": [
    "For example, if we have next-day retention rate = 10% on 2018-11-13, and we assume there were 1000 of users who registered on that day. 10% of next-day retention rate means out of 1000 new users who registered on 2018-11-13, 100 came back and triggered some rating event between 24th ~ 48th hour after their respective registration timestamp."
   ]
  },
  {
   "cell_type": "code",
   "execution_count": 1,
   "id": "4d1da642",
   "metadata": {},
   "outputs": [],
   "source": [
    "#import packages necessary for this project \n",
    "import pandas as pd\n",
    "import numpy as np \n",
    "from datetime import date, datetime, timedelta\n",
    "from scipy import stats\n",
    "#Visualization\n",
    "import matplotlib as mpl\n",
    "import matplotlib.pyplot as plt\n",
    "import matplotlib.pylab as pylab\n",
    "import seaborn as sns\n",
    "#Configure Visualization Defaults\n",
    "#%matplotlib inline = show plots in Jupyter Notebook browser\n",
    "%matplotlib inline\n",
    "mpl.style.use('ggplot')\n",
    "sns.set_style('white')\n",
    "pylab.rcParams['figure.figsize'] = 12,8\n",
    "import matplotlib.ticker as mtick"
   ]
  },
  {
   "cell_type": "code",
   "execution_count": 2,
   "id": "24f7de1f",
   "metadata": {},
   "outputs": [],
   "source": [
    "#import datasets\n",
    "rating_df = pd.read_csv('ratings.csv', parse_dates = ['ts_minute'])\n",
    "user_df = pd.read_csv('users.csv', parse_dates = ['registration_ts', 'profile_completion_ts'])"
   ]
  },
  {
   "cell_type": "code",
   "execution_count": 11,
   "id": "68ff05e5",
   "metadata": {},
   "outputs": [
    {
     "name": "stdout",
     "output_type": "stream",
     "text": [
      "Rating dataset has 18517862 data points with 4 variables each. See a sample below.\n"
     ]
    },
    {
     "data": {
      "text/html": [
       "<div>\n",
       "<style scoped>\n",
       "    .dataframe tbody tr th:only-of-type {\n",
       "        vertical-align: middle;\n",
       "    }\n",
       "\n",
       "    .dataframe tbody tr th {\n",
       "        vertical-align: top;\n",
       "    }\n",
       "\n",
       "    .dataframe thead th {\n",
       "        text-align: right;\n",
       "    }\n",
       "</style>\n",
       "<table border=\"1\" class=\"dataframe\">\n",
       "  <thead>\n",
       "    <tr style=\"text-align: right;\">\n",
       "      <th></th>\n",
       "      <th>user_id</th>\n",
       "      <th>rating_type</th>\n",
       "      <th>ts_minute</th>\n",
       "      <th>ct</th>\n",
       "    </tr>\n",
       "  </thead>\n",
       "  <tbody>\n",
       "    <tr>\n",
       "      <th>0</th>\n",
       "      <td>5100</td>\n",
       "      <td>1</td>\n",
       "      <td>2018-10-15 01:55:00</td>\n",
       "      <td>1</td>\n",
       "    </tr>\n",
       "  </tbody>\n",
       "</table>\n",
       "</div>"
      ],
      "text/plain": [
       "   user_id  rating_type           ts_minute  ct\n",
       "0     5100            1 2018-10-15 01:55:00   1"
      ]
     },
     "execution_count": 11,
     "metadata": {},
     "output_type": "execute_result"
    }
   ],
   "source": [
    "print(\"Rating dataset has {} data points with {} variables each. See a sample below.\".format(*rating_df.shape))\n",
    "rating_df.head(1)"
   ]
  },
  {
   "cell_type": "code",
   "execution_count": 10,
   "id": "7c314633",
   "metadata": {},
   "outputs": [
    {
     "name": "stdout",
     "output_type": "stream",
     "text": [
      "User dataset has 18517862 data points with 4 variables each. See a sample below.\n"
     ]
    },
    {
     "data": {
      "text/html": [
       "<div>\n",
       "<style scoped>\n",
       "    .dataframe tbody tr th:only-of-type {\n",
       "        vertical-align: middle;\n",
       "    }\n",
       "\n",
       "    .dataframe tbody tr th {\n",
       "        vertical-align: top;\n",
       "    }\n",
       "\n",
       "    .dataframe thead th {\n",
       "        text-align: right;\n",
       "    }\n",
       "</style>\n",
       "<table border=\"1\" class=\"dataframe\">\n",
       "  <thead>\n",
       "    <tr style=\"text-align: right;\">\n",
       "      <th></th>\n",
       "      <th>user_id</th>\n",
       "      <th>platform</th>\n",
       "      <th>registration_ts</th>\n",
       "      <th>profile_completion_ts</th>\n",
       "      <th>gender</th>\n",
       "      <th>gender_preference</th>\n",
       "      <th>photos_count</th>\n",
       "      <th>max_distance</th>\n",
       "      <th>metro_area</th>\n",
       "      <th>age</th>\n",
       "      <th>...</th>\n",
       "      <th>height_pref_max</th>\n",
       "      <th>height_pref_min</th>\n",
       "      <th>height_strict</th>\n",
       "      <th>education_attained</th>\n",
       "      <th>dogs</th>\n",
       "      <th>cats</th>\n",
       "      <th>hobby1</th>\n",
       "      <th>hobby2</th>\n",
       "      <th>hobby3</th>\n",
       "      <th>hobby4</th>\n",
       "    </tr>\n",
       "  </thead>\n",
       "  <tbody>\n",
       "    <tr>\n",
       "      <th>0</th>\n",
       "      <td>59758</td>\n",
       "      <td>Android</td>\n",
       "      <td>2018-10-19 11:46:12</td>\n",
       "      <td>2018-10-19 11:55:46</td>\n",
       "      <td>0.0</td>\n",
       "      <td>2.0</td>\n",
       "      <td>5</td>\n",
       "      <td>14.0</td>\n",
       "      <td>0</td>\n",
       "      <td>19</td>\n",
       "      <td>...</td>\n",
       "      <td>214.0</td>\n",
       "      <td>92.0</td>\n",
       "      <td>0.0</td>\n",
       "      <td>0.0</td>\n",
       "      <td>0.0</td>\n",
       "      <td>3.0</td>\n",
       "      <td>0</td>\n",
       "      <td>0</td>\n",
       "      <td>0</td>\n",
       "      <td>1</td>\n",
       "    </tr>\n",
       "  </tbody>\n",
       "</table>\n",
       "<p>1 rows × 24 columns</p>\n",
       "</div>"
      ],
      "text/plain": [
       "   user_id platform     registration_ts profile_completion_ts  gender  \\\n",
       "0    59758  Android 2018-10-19 11:46:12   2018-10-19 11:55:46     0.0   \n",
       "\n",
       "   gender_preference  photos_count  max_distance  metro_area  age  ...  \\\n",
       "0                2.0             5          14.0           0   19  ...   \n",
       "\n",
       "   height_pref_max  height_pref_min  height_strict  education_attained  dogs  \\\n",
       "0            214.0             92.0            0.0                 0.0   0.0   \n",
       "\n",
       "   cats  hobby1  hobby2  hobby3  hobby4  \n",
       "0   3.0       0       0       0       1  \n",
       "\n",
       "[1 rows x 24 columns]"
      ]
     },
     "execution_count": 10,
     "metadata": {},
     "output_type": "execute_result"
    }
   ],
   "source": [
    "print(\"User dataset has {} data points with {} variables each. See a sample below.\".format(*rating_df.shape))\n",
    "user_df.head(1)"
   ]
  },
  {
   "cell_type": "markdown",
   "id": "9e418c0f",
   "metadata": {},
   "source": [
    "----\n",
    "<a id='Question2'></a>\n",
    "\n",
    "## Question 2\n",
    "Hinge’s COO, Sam, claims that retention rates of Android and iOS users are different. Does the data support Sam’s claim? Is the retention rate of users on one platform consistently and statistically lower than that of the other?\n",
    "\n",
    "\n",
    "[[ go back to the top ]](#Table-of-contents)"
   ]
  },
  {
   "cell_type": "markdown",
   "id": "b4ead786",
   "metadata": {},
   "source": [
    "### Compute the Retention rates of Android and iOS"
   ]
  },
  {
   "cell_type": "markdown",
   "id": "f0985d28",
   "metadata": {},
   "source": [
    "Let's assume that the Retention Rate that Sam referred to is the Next-Day Retention Rate in Question 1. We can tell that it is in daily granularity. When we breakdown the daily retention rate by platform, we can get the `average retention rate` by platform </br>\n",
    "\n",
    "<b>Average Retention Rate of iOS or Android = Sum of Daily Retention Rate / Number of days </b>\n",
    "</br>\n",
    "\n",
    "Based on Sam's hypothesis, we can set the null and alternative hypotheses: </br>\n",
    "\n",
    "$H_{0}$: Average Retention Rate of iOS = Average Retention Rate of Android </br>\n",
    "$H_{1}$: Average Retention Rate of iOS $\\neq$ Average Retention Rate of Android</br>\n",
    "\n",
    "Since we are comparing two sample mean and population variance is unknown, we should use `Two Sample T-Test` to see if we should reject the null hypothesis. </br>\n",
    "</br>\n",
    "Assumption of Two Sample T-Test: </br>\n",
    "- Two sample are independent\n",
    "- data in each group follow normal distribution (according to CLT, when sample size is larger than 30, the samples will be normally distributed)\n",
    "- Two samples have similar variances"
   ]
  },
  {
   "cell_type": "code",
   "execution_count": 4,
   "id": "305b03fe",
   "metadata": {},
   "outputs": [],
   "source": [
    "user_rating_df = pd.merge(user_df, rating_df, on = 'user_id', how = 'left')"
   ]
  },
  {
   "cell_type": "code",
   "execution_count": 5,
   "id": "f06fc187",
   "metadata": {},
   "outputs": [
    {
     "name": "stdout",
     "output_type": "stream",
     "text": [
      "Left join works okay\n"
     ]
    }
   ],
   "source": [
    "#check if the left join works as expected \n",
    "if user_rating_df[user_rating_df.ts_minute.isnull() ].shape[0]>0:\n",
    "    print('Left join works okay')"
   ]
  },
  {
   "cell_type": "code",
   "execution_count": 6,
   "id": "14bbe051",
   "metadata": {},
   "outputs": [],
   "source": [
    "cvr_platform_df =user_rating_df[['user_id', 'platform', 'registration_ts', 'rating_type', 'ts_minute', 'ct']]"
   ]
  },
  {
   "cell_type": "code",
   "execution_count": 7,
   "id": "9491f88e",
   "metadata": {},
   "outputs": [
    {
     "data": {
      "text/plain": [
       "array(['Android', 'iOS', 'ios'], dtype=object)"
      ]
     },
     "execution_count": 7,
     "metadata": {},
     "output_type": "execute_result"
    }
   ],
   "source": [
    "#unique value in platform column\n",
    "cvr_platform_df.platform.unique()"
   ]
  },
  {
   "cell_type": "code",
   "execution_count": 8,
   "id": "c5268b97",
   "metadata": {},
   "outputs": [],
   "source": [
    "#Segment the df by platform\n",
    "cvr_platform_df_iOS = cvr_platform_df[cvr_platform_df.platform.isin(['iOS' , 'ios'])]\n",
    "cvr_platform_df_And = cvr_platform_df[cvr_platform_df.platform.isin(['Android'])]"
   ]
  },
  {
   "cell_type": "code",
   "execution_count": 9,
   "id": "de3fe81e",
   "metadata": {},
   "outputs": [
    {
     "name": "stdout",
     "output_type": "stream",
     "text": [
      "Filtering by platform works well.\n"
     ]
    }
   ],
   "source": [
    "if cvr_platform_df_iOS.shape[0] + cvr_platform_df_And.shape[0] == cvr_platform_df.shape[0]:\n",
    "    print('Filtering by platform works well.')"
   ]
  },
  {
   "cell_type": "code",
   "execution_count": 10,
   "id": "729424ca",
   "metadata": {},
   "outputs": [],
   "source": [
    "def calculate_retention_rate(input_df):\n",
    "    reg_df = input_df[['user_id', 'registration_ts']].groupby(by = ['user_id']).min().reset_index()\n",
    "    #get the time range for D1, users have to have an action between 24 hrs ~ 48 hrs after their registration date \n",
    "    reg_df['min_bound'] = reg_df['registration_ts'] + timedelta(hours = 24)\n",
    "    reg_df['max_bound'] = reg_df['registration_ts'] + timedelta(hours = 48)\n",
    "    \n",
    "    temp_df1 = pd.merge(reg_df, input_df[['user_id', 'ts_minute']], how='left', on = 'user_id')\n",
    "    \n",
    "    #Users who were active on their Day 1\n",
    "    temp_df1_return_D1 = temp_df1[(temp_df1.ts_minute >= temp_df1.min_bound) & (temp_df1.ts_minute <= temp_df1.max_bound)]\n",
    "    \n",
    "    # Add an indicator column to represent if users are active at their D1 \n",
    "    temp_df1_return_D1['Day1_active'] = np.where(temp_df1_return_D1['ts_minute'].isnull(), 0, 1)\n",
    "    \n",
    "    #select distinct userId and their Day1_active indicator\n",
    "    temp_df1_return_D1 = temp_df1_return_D1[['user_id', 'Day1_active']].drop_duplicates()\n",
    "    \n",
    "    #merge the user daily active indicator with user_registration_date df , we can use it to calculate retention rate later \n",
    "    reg_df = pd.merge(left = reg_df, right = temp_df1_return_D1, on = 'user_id', how = 'left')\n",
    "    \n",
    "    #generate registration date column \n",
    "    reg_df['registration_date']  = reg_df.registration_ts.dt.to_period('D')\n",
    "    \n",
    "    #assign 0 to missing value in Day1_active, 0 represents users weren't active on Day 1\n",
    "    reg_df['Day1_active'] = np.where(reg_df['Day1_active'].isna(), 0,1)\n",
    "    \n",
    "    #pivot table to get how many active per day \n",
    "    pivot_df = pd.pivot_table(reg_df, \n",
    "                   values = 'user_id', index = ['registration_date'], columns = ['Day1_active'], aggfunc=len)\n",
    "    \n",
    "    #calculate the daily conversion rate \n",
    "    daily_retention  = pivot_df[1] / (pivot_df[0] + pivot_df[1])\n",
    "    \n",
    "    #Return the daily retention rate dataframe \n",
    "    return daily_retention"
   ]
  },
  {
   "cell_type": "code",
   "execution_count": 11,
   "id": "b560045a",
   "metadata": {},
   "outputs": [
    {
     "name": "stderr",
     "output_type": "stream",
     "text": [
      "/var/folders/nk/g_hk0tsd5jsg2r9jfv_rvgfm0000gn/T/ipykernel_48387/2433810996.py:13: SettingWithCopyWarning: \n",
      "A value is trying to be set on a copy of a slice from a DataFrame.\n",
      "Try using .loc[row_indexer,col_indexer] = value instead\n",
      "\n",
      "See the caveats in the documentation: https://pandas.pydata.org/pandas-docs/stable/user_guide/indexing.html#returning-a-view-versus-a-copy\n",
      "  temp_df1_return_D1['Day1_active'] = np.where(temp_df1_return_D1['ts_minute'].isnull(), 0, 1)\n",
      "/var/folders/nk/g_hk0tsd5jsg2r9jfv_rvgfm0000gn/T/ipykernel_48387/2433810996.py:13: SettingWithCopyWarning: \n",
      "A value is trying to be set on a copy of a slice from a DataFrame.\n",
      "Try using .loc[row_indexer,col_indexer] = value instead\n",
      "\n",
      "See the caveats in the documentation: https://pandas.pydata.org/pandas-docs/stable/user_guide/indexing.html#returning-a-view-versus-a-copy\n",
      "  temp_df1_return_D1['Day1_active'] = np.where(temp_df1_return_D1['ts_minute'].isnull(), 0, 1)\n"
     ]
    }
   ],
   "source": [
    "iOS_daily_retention = calculate_retention_rate(cvr_platform_df_iOS)\n",
    "Android_daily_retention = calculate_retention_rate(cvr_platform_df_And)"
   ]
  },
  {
   "cell_type": "code",
   "execution_count": 12,
   "id": "21c1cbec",
   "metadata": {},
   "outputs": [
    {
     "name": "stdout",
     "output_type": "stream",
     "text": [
      "Average retention rate for iOS is 0.69, and 0.71 for Android\n"
     ]
    }
   ],
   "source": [
    "# Android_daily_retention.mean()\n",
    "print(\"Average retention rate for iOS is {a}, and {b} for Android\".format(\n",
    "    a = round(iOS_daily_retention.mean(),2), b = round(Android_daily_retention.mean(),2)))"
   ]
  },
  {
   "cell_type": "markdown",
   "id": "2867b5b6",
   "metadata": {},
   "source": [
    "**The Average Retention Rate by platform are computed, we will run Two sample t-test**\n",
    "\n",
    "$H_{0}$: Average Retention Rate of iOS = Average Retention Rate of Android </br>\n",
    "$H_{1}$: Average Retention Rate of iOS $\\neq$ Average Retention Rate of Android</br>"
   ]
  },
  {
   "cell_type": "markdown",
   "id": "bf625e74",
   "metadata": {},
   "source": [
    "Before conducting the two-sample T-test, we need to find if the given data groups have the same variance. We can use the ratio of the larger data groups to the smaller data groups and see if it's less than 4:1, if so, we can consider that the given data groups have equal variance. "
   ]
  },
  {
   "cell_type": "code",
   "execution_count": 13,
   "id": "1b336562",
   "metadata": {},
   "outputs": [
    {
     "name": "stdout",
     "output_type": "stream",
     "text": [
      "We can assume that the two group have equal variance\n"
     ]
    }
   ],
   "source": [
    "if np.var(Android_daily_retention)/np.var(iOS_daily_retention) < 4:\n",
    "    print('We can assume that the two group have equal variance')\n",
    "else:\n",
    "    print('The two groups have unequal variance')"
   ]
  },
  {
   "cell_type": "code",
   "execution_count": 14,
   "id": "2050b9d7",
   "metadata": {},
   "outputs": [
    {
     "data": {
      "text/plain": [
       "Ttest_indResult(statistic=-2.5534181868374723, pvalue=0.013226821891877065)"
      ]
     },
     "execution_count": 14,
     "metadata": {},
     "output_type": "execute_result"
    }
   ],
   "source": [
    "stats.ttest_ind(iOS_daily_retention, Android_daily_retention, equal_var = True, alternative= 'two-sided')"
   ]
  },
  {
   "cell_type": "code",
   "execution_count": 15,
   "id": "af86c033",
   "metadata": {},
   "outputs": [
    {
     "data": {
      "text/plain": [
       "True"
      ]
     },
     "execution_count": 15,
     "metadata": {},
     "output_type": "execute_result"
    }
   ],
   "source": [
    "0.013226821891877065<0.05"
   ]
  },
  {
   "cell_type": "markdown",
   "id": "f72c58b9",
   "metadata": {},
   "source": [
    "Since p-value is smaller than 0.05, so we reject the null hypothesis and conclude that we are 95% confident that the Average Retention Rate of iOS and Android are significantly different. To answer Sam's first question, yes, the average retention rate of Android and iOS users are different. "
   ]
  },
  {
   "cell_type": "markdown",
   "id": "060cc559",
   "metadata": {},
   "source": [
    "### Is the retention rate of users on one platform consistently and statistically lower than that of the other?"
   ]
  },
  {
   "cell_type": "markdown",
   "id": "b83f4f6b",
   "metadata": {},
   "source": [
    "Since we know that the `Average Retention Rate of Android > Average Retention Rate of iOS`, so I'd set the hypothesis as below </br>\n",
    "\n",
    "$H_{0}$: Average Retention Rate of Android <= Average Retention Rate of iOS </br>\n",
    "$H_{1}$: Average Retention Rate of Android > Average Retention Rate of iOS</br>\n"
   ]
  },
  {
   "cell_type": "code",
   "execution_count": 16,
   "id": "4645e1cb",
   "metadata": {},
   "outputs": [
    {
     "data": {
      "text/plain": [
       "Ttest_indResult(statistic=2.5534181868374723, pvalue=0.0066134109459385325)"
      ]
     },
     "execution_count": 16,
     "metadata": {},
     "output_type": "execute_result"
    }
   ],
   "source": [
    "stats.ttest_ind(Android_daily_retention, iOS_daily_retention,  equal_var = True, alternative= 'greater')"
   ]
  },
  {
   "cell_type": "code",
   "execution_count": 17,
   "id": "1aa1c1f9",
   "metadata": {},
   "outputs": [
    {
     "data": {
      "text/plain": [
       "True"
      ]
     },
     "execution_count": 17,
     "metadata": {},
     "output_type": "execute_result"
    }
   ],
   "source": [
    "0.0066134109459385325<0.05"
   ]
  },
  {
   "cell_type": "markdown",
   "id": "c38b6c99",
   "metadata": {},
   "source": [
    "Since p-value is smaller than 0.05, so we reject the null hypothesis. We are 95% confident that the Average Retention Rate of Android is greater than the Average Retention Rate of iOS."
   ]
  },
  {
   "cell_type": "markdown",
   "id": "9fb5afbf",
   "metadata": {},
   "source": [
    "----\n",
    "<a id='Question3'></a>\n",
    "## Question 3\n",
    "If Android/iOS user retention rates are different, what behavioral or demographic insights might explain this difference? </br>\n",
    "</br>\n",
    "If Android/iOS user retention rates are not different, what behavioral or demographic factors seem to contribute to retention in general?\n",
    "\n",
    "\n",
    "[[ go back to the top ]](#Table-of-contents)"
   ]
  },
  {
   "cell_type": "code",
   "execution_count": 18,
   "id": "c3db0dbe",
   "metadata": {},
   "outputs": [],
   "source": [
    "#Segment the df by platform\n",
    "iOS_df = user_rating_df[user_rating_df.platform.isin(['iOS' , 'ios'])]\n",
    "Android_df = user_rating_df[user_rating_df.platform.isin(['Android'])]"
   ]
  },
  {
   "cell_type": "code",
   "execution_count": 19,
   "id": "aa9c0a8b",
   "metadata": {},
   "outputs": [],
   "source": [
    "#clean the \"platform\" column, make ios points to iOS\n",
    "user_rating_df['platform'] = np.where(user_rating_df['platform'] == 'ios', 'iOS',user_rating_df['platform'])\n",
    "user_df['platform'] = np.where(user_df['platform'] == 'ios', 'iOS',user_df['platform'])"
   ]
  },
  {
   "cell_type": "markdown",
   "id": "6df1932f",
   "metadata": {},
   "source": [
    "#### Assign retention indicator to users"
   ]
  },
  {
   "cell_type": "code",
   "execution_count": 20,
   "id": "915b868f",
   "metadata": {},
   "outputs": [
    {
     "data": {
      "text/plain": [
       "Index(['user_id', 'platform', 'registration_ts', 'profile_completion_ts',\n",
       "       'gender', 'gender_preference', 'photos_count', 'max_distance',\n",
       "       'metro_area', 'age', 'age_pref_max', 'age_pref_min', 'age_strict',\n",
       "       'height', 'height_pref_max', 'height_pref_min', 'height_strict',\n",
       "       'education_attained', 'dogs', 'cats', 'hobby1', 'hobby2', 'hobby3',\n",
       "       'hobby4', 'rating_type', 'ts_minute', 'ct'],\n",
       "      dtype='object')"
      ]
     },
     "execution_count": 20,
     "metadata": {},
     "output_type": "execute_result"
    }
   ],
   "source": [
    "user_rating_df.columns"
   ]
  },
  {
   "cell_type": "code",
   "execution_count": 21,
   "id": "2a5d5020",
   "metadata": {},
   "outputs": [
    {
     "name": "stderr",
     "output_type": "stream",
     "text": [
      "/var/folders/nk/g_hk0tsd5jsg2r9jfv_rvgfm0000gn/T/ipykernel_48387/2422579573.py:17: SettingWithCopyWarning: \n",
      "A value is trying to be set on a copy of a slice from a DataFrame.\n",
      "Try using .loc[row_indexer,col_indexer] = value instead\n",
      "\n",
      "See the caveats in the documentation: https://pandas.pydata.org/pandas-docs/stable/user_guide/indexing.html#returning-a-view-versus-a-copy\n",
      "  iOS_And_1_return_D1['Day1_active'] = np.where(iOS_And_1_return_D1['ts_minute'].isnull(), 0, 1)\n"
     ]
    }
   ],
   "source": [
    "#each users' unique registration date \n",
    "#select user_id , min(registration_ts) from t group by 1 \n",
    "user_registration_date = user_rating_df[['user_id', 'registration_ts']].groupby(by = ['user_id']).min().reset_index()\n",
    "\n",
    "user_registration_date['max_bound'] = user_registration_date['registration_ts'] + timedelta(hours = 48)\n",
    "user_registration_date['min_bound'] = user_registration_date['registration_ts'] + timedelta(hours = 24)\n",
    "\n",
    "user_registration_date.head()\n",
    "\n",
    "#select * from user_registration_date left join user_rating_df \n",
    "# on t1.user_id = t2.user_id and t2.ts_minutes between t1.min_bound and t1.max_bound \n",
    "\n",
    "iOS_And_1 = pd.merge(user_registration_date, user_rating_df[['user_id', 'ts_minute']], how='left', on = 'user_id')\n",
    "#Users who were active on their Day 1\n",
    "iOS_And_1_return_D1 = iOS_And_1[(iOS_And_1.ts_minute >= iOS_And_1.min_bound) & (iOS_And_1.ts_minute <= iOS_And_1.max_bound)]\n",
    "# Add an indicator column to represent if users are active at their D1 \n",
    "iOS_And_1_return_D1['Day1_active'] = np.where(iOS_And_1_return_D1['ts_minute'].isnull(), 0, 1)\n",
    "#select distinct userId and their Day1_active indicator, and join it with IOS data set latter\n",
    "iOS_And_1_return_D1 = iOS_And_1_return_D1[['user_id', 'Day1_active']].drop_duplicates()\n",
    "\n",
    "#merge the user daily active indicator with user_registration_datedf , we can use it to calculate retention rate later \n",
    "user_registration_date = pd.merge(left = user_registration_date, right = iOS_And_1_return_D1, on = 'user_id', how = 'left')\n",
    "\n",
    "#generate registration date column \n",
    "user_registration_date['registration_date']  = user_registration_date.registration_ts.dt.to_period('D')\n",
    "\n",
    "#assign 0 to missing value in Day1_active, 0 represents users weren't active on Day 1\n",
    "user_registration_date['Day1_active'] = np.where(user_registration_date['Day1_active'].isna(), 0,1)"
   ]
  },
  {
   "cell_type": "code",
   "execution_count": 22,
   "id": "9b9c71d5",
   "metadata": {},
   "outputs": [],
   "source": [
    "#add retention indicator to the dataframe for further segmentation use\n",
    "user_rating_df = pd.merge(user_rating_df, user_registration_date[['user_id', 'Day1_active']], how='left', on='user_id')"
   ]
  },
  {
   "cell_type": "code",
   "execution_count": 23,
   "id": "b2920c8d",
   "metadata": {},
   "outputs": [],
   "source": [
    "## add retention indicator to user_df\n",
    "user_df = pd.merge(user_df, user_registration_date[['user_id', 'Day1_active']], how='left', on='user_id')"
   ]
  },
  {
   "cell_type": "markdown",
   "id": "7890ffcc",
   "metadata": {},
   "source": [
    "### 3.1 Gender distribution per segement"
   ]
  },
  {
   "cell_type": "markdown",
   "id": "d7876288",
   "metadata": {},
   "source": [
    "- We observe that there are 60% of total users using Android and 40% using iOS. \n",
    "- Android has 60% of users with gender 0, and 40% as gender 1 \n",
    "- iOS has 58% of users with gender0, and 42% as gender 1\n",
    "- The percentage distrbution of gender between iOS and Android are close"
   ]
  },
  {
   "cell_type": "code",
   "execution_count": 24,
   "id": "3112472f",
   "metadata": {},
   "outputs": [
    {
     "data": {
      "text/plain": [
       "platform\n",
       "Android    67238\n",
       "iOS        44486\n",
       "Name: user_id, dtype: int64"
      ]
     },
     "execution_count": 24,
     "metadata": {},
     "output_type": "execute_result"
    }
   ],
   "source": [
    "#Number of distinct users by platform\n",
    "user_rating_df.groupby('platform').nunique()['user_id']"
   ]
  },
  {
   "cell_type": "code",
   "execution_count": 25,
   "id": "d43ae018",
   "metadata": {},
   "outputs": [
    {
     "data": {
      "text/plain": [
       "60.18223479288246"
      ]
     },
     "execution_count": 25,
     "metadata": {},
     "output_type": "execute_result"
    }
   ],
   "source": [
    "(67238/(67238+ 44486)) *100"
   ]
  },
  {
   "cell_type": "code",
   "execution_count": 26,
   "id": "9897e1c2",
   "metadata": {},
   "outputs": [],
   "source": [
    "#convert gender's data type to string \n",
    "user_df.gender = user_df.gender.astype('object') #can't do bool \n",
    "\n",
    "gender_df = pd.DataFrame(user_df.groupby(['gender','platform']).nunique()['user_id'])\n",
    "\n",
    "gender_df.reset_index(inplace=True)\n",
    "\n",
    "gender_df = pd.pivot_table(gender_df, values = 'user_id', index = 'platform', columns = ['gender'], \n",
    "               aggfunc = np.sum , margins=True\n",
    "              )"
   ]
  },
  {
   "cell_type": "code",
   "execution_count": 27,
   "id": "60e8b3c8",
   "metadata": {},
   "outputs": [
    {
     "data": {
      "text/html": [
       "<div>\n",
       "<style scoped>\n",
       "    .dataframe tbody tr th:only-of-type {\n",
       "        vertical-align: middle;\n",
       "    }\n",
       "\n",
       "    .dataframe tbody tr th {\n",
       "        vertical-align: top;\n",
       "    }\n",
       "\n",
       "    .dataframe thead th {\n",
       "        text-align: right;\n",
       "    }\n",
       "</style>\n",
       "<table border=\"1\" class=\"dataframe\">\n",
       "  <thead>\n",
       "    <tr style=\"text-align: right;\">\n",
       "      <th>gender</th>\n",
       "      <th>0.0</th>\n",
       "      <th>1.0</th>\n",
       "      <th>All</th>\n",
       "    </tr>\n",
       "    <tr>\n",
       "      <th>platform</th>\n",
       "      <th></th>\n",
       "      <th></th>\n",
       "      <th></th>\n",
       "    </tr>\n",
       "  </thead>\n",
       "  <tbody>\n",
       "    <tr>\n",
       "      <th>Android</th>\n",
       "      <td>40515</td>\n",
       "      <td>26722</td>\n",
       "      <td>67237</td>\n",
       "    </tr>\n",
       "    <tr>\n",
       "      <th>iOS</th>\n",
       "      <td>25825</td>\n",
       "      <td>18661</td>\n",
       "      <td>44486</td>\n",
       "    </tr>\n",
       "    <tr>\n",
       "      <th>All</th>\n",
       "      <td>66340</td>\n",
       "      <td>45383</td>\n",
       "      <td>111723</td>\n",
       "    </tr>\n",
       "  </tbody>\n",
       "</table>\n",
       "</div>"
      ],
      "text/plain": [
       "gender      0.0    1.0     All\n",
       "platform                      \n",
       "Android   40515  26722   67237\n",
       "iOS       25825  18661   44486\n",
       "All       66340  45383  111723"
      ]
     },
     "execution_count": 27,
     "metadata": {},
     "output_type": "execute_result"
    }
   ],
   "source": [
    "gender_df"
   ]
  },
  {
   "cell_type": "code",
   "execution_count": 28,
   "id": "654cded5",
   "metadata": {},
   "outputs": [
    {
     "name": "stdout",
     "output_type": "stream",
     "text": [
      "Gender distribution for Gender 0 platform\n",
      "Android    0.60257\n",
      "iOS        0.58052\n",
      "All        0.59379\n",
      "dtype: float64\n"
     ]
    }
   ],
   "source": [
    "print('Gender distribution for Gender 0', (gender_df[0.0]/gender_df['All'])) "
   ]
  },
  {
   "cell_type": "code",
   "execution_count": 29,
   "id": "f9c3b785",
   "metadata": {},
   "outputs": [
    {
     "name": "stdout",
     "output_type": "stream",
     "text": [
      "Gender distribution for Gender 1 platform\n",
      "Android    0.39743\n",
      "iOS        0.41948\n",
      "All        0.40621\n",
      "dtype: float64\n"
     ]
    }
   ],
   "source": [
    "print('Gender distribution for Gender 1', gender_df[1.0]/gender_df['All']) "
   ]
  },
  {
   "cell_type": "markdown",
   "id": "81a4dded",
   "metadata": {},
   "source": [
    "### 3.2 Trend for gender preference "
   ]
  },
  {
   "cell_type": "markdown",
   "id": "607c507a",
   "metadata": {},
   "source": [
    "According the barplot, the percentage of each gender preference users to total users ratio are similar across Android and iOS. "
   ]
  },
  {
   "cell_type": "code",
   "execution_count": 30,
   "id": "c843995a",
   "metadata": {},
   "outputs": [],
   "source": [
    "#Gender preference is categorical number, convert it to string\n",
    "user_df.gender_preference = user_df.gender_preference.astype('object')\n",
    "\n",
    "user_df.gender_preference.describe()\n",
    "\n",
    "gender_pref_df = pd.DataFrame(user_df.groupby(['gender_preference','platform']).nunique()['user_id'])\n",
    "\n",
    "gender_pref_df.reset_index(inplace=True)\n",
    "\n",
    "\n",
    "gender_pref_df=pd.pivot_table(gender_pref_df, values = 'user_id', index = 'platform', columns = ['gender_preference'], \n",
    "               aggfunc = np.sum , margins=True\n",
    "              )"
   ]
  },
  {
   "cell_type": "code",
   "execution_count": 31,
   "id": "3064f126",
   "metadata": {},
   "outputs": [
    {
     "data": {
      "text/html": [
       "<div>\n",
       "<style scoped>\n",
       "    .dataframe tbody tr th:only-of-type {\n",
       "        vertical-align: middle;\n",
       "    }\n",
       "\n",
       "    .dataframe tbody tr th {\n",
       "        vertical-align: top;\n",
       "    }\n",
       "\n",
       "    .dataframe thead th {\n",
       "        text-align: right;\n",
       "    }\n",
       "</style>\n",
       "<table border=\"1\" class=\"dataframe\">\n",
       "  <thead>\n",
       "    <tr style=\"text-align: right;\">\n",
       "      <th>gender_preference</th>\n",
       "      <th>0.0</th>\n",
       "      <th>1.0</th>\n",
       "      <th>2.0</th>\n",
       "      <th>All</th>\n",
       "    </tr>\n",
       "    <tr>\n",
       "      <th>platform</th>\n",
       "      <th></th>\n",
       "      <th></th>\n",
       "      <th></th>\n",
       "      <th></th>\n",
       "    </tr>\n",
       "  </thead>\n",
       "  <tbody>\n",
       "    <tr>\n",
       "      <th>Android</th>\n",
       "      <td>25648</td>\n",
       "      <td>39402</td>\n",
       "      <td>2098</td>\n",
       "      <td>67148</td>\n",
       "    </tr>\n",
       "    <tr>\n",
       "      <th>iOS</th>\n",
       "      <td>17559</td>\n",
       "      <td>25222</td>\n",
       "      <td>1645</td>\n",
       "      <td>44426</td>\n",
       "    </tr>\n",
       "    <tr>\n",
       "      <th>All</th>\n",
       "      <td>43207</td>\n",
       "      <td>64624</td>\n",
       "      <td>3743</td>\n",
       "      <td>111574</td>\n",
       "    </tr>\n",
       "  </tbody>\n",
       "</table>\n",
       "</div>"
      ],
      "text/plain": [
       "gender_preference    0.0    1.0   2.0     All\n",
       "platform                                     \n",
       "Android            25648  39402  2098   67148\n",
       "iOS                17559  25222  1645   44426\n",
       "All                43207  64624  3743  111574"
      ]
     },
     "execution_count": 31,
     "metadata": {},
     "output_type": "execute_result"
    }
   ],
   "source": [
    "gender_pref_df"
   ]
  },
  {
   "cell_type": "code",
   "execution_count": 32,
   "id": "dde64988",
   "metadata": {},
   "outputs": [],
   "source": [
    "gender_pref_df['0_to_all'] = gender_pref_df[0.0]/gender_pref_df['All']\n",
    "gender_pref_df['1_to_all'] = gender_pref_df[1.0]/gender_pref_df['All']\n",
    "gender_pref_df['2_to_all'] = gender_pref_df[2.0]/gender_pref_df['All']\n",
    "\n",
    "\n",
    "gender_pref_df.reset_index(inplace=True)\n",
    "\n",
    "gender_pref_df.reset_index(inplace=True)"
   ]
  },
  {
   "cell_type": "code",
   "execution_count": 33,
   "id": "a2ca2658",
   "metadata": {},
   "outputs": [
    {
     "data": {
      "text/html": [
       "<div>\n",
       "<style scoped>\n",
       "    .dataframe tbody tr th:only-of-type {\n",
       "        vertical-align: middle;\n",
       "    }\n",
       "\n",
       "    .dataframe tbody tr th {\n",
       "        vertical-align: top;\n",
       "    }\n",
       "\n",
       "    .dataframe thead th {\n",
       "        text-align: right;\n",
       "    }\n",
       "</style>\n",
       "<table border=\"1\" class=\"dataframe\">\n",
       "  <thead>\n",
       "    <tr style=\"text-align: right;\">\n",
       "      <th>gender_preference</th>\n",
       "      <th>index</th>\n",
       "      <th>platform</th>\n",
       "      <th>0.0</th>\n",
       "      <th>1.0</th>\n",
       "      <th>2.0</th>\n",
       "      <th>All</th>\n",
       "      <th>0_to_all</th>\n",
       "      <th>1_to_all</th>\n",
       "      <th>2_to_all</th>\n",
       "    </tr>\n",
       "  </thead>\n",
       "  <tbody>\n",
       "    <tr>\n",
       "      <th>0</th>\n",
       "      <td>0</td>\n",
       "      <td>Android</td>\n",
       "      <td>25648</td>\n",
       "      <td>39402</td>\n",
       "      <td>2098</td>\n",
       "      <td>67148</td>\n",
       "      <td>0.381962</td>\n",
       "      <td>0.586793</td>\n",
       "      <td>0.031244</td>\n",
       "    </tr>\n",
       "    <tr>\n",
       "      <th>1</th>\n",
       "      <td>1</td>\n",
       "      <td>iOS</td>\n",
       "      <td>17559</td>\n",
       "      <td>25222</td>\n",
       "      <td>1645</td>\n",
       "      <td>44426</td>\n",
       "      <td>0.395242</td>\n",
       "      <td>0.567731</td>\n",
       "      <td>0.037028</td>\n",
       "    </tr>\n",
       "    <tr>\n",
       "      <th>2</th>\n",
       "      <td>2</td>\n",
       "      <td>All</td>\n",
       "      <td>43207</td>\n",
       "      <td>64624</td>\n",
       "      <td>3743</td>\n",
       "      <td>111574</td>\n",
       "      <td>0.387250</td>\n",
       "      <td>0.579203</td>\n",
       "      <td>0.033547</td>\n",
       "    </tr>\n",
       "  </tbody>\n",
       "</table>\n",
       "</div>"
      ],
      "text/plain": [
       "gender_preference  index platform    0.0    1.0   2.0     All  0_to_all  \\\n",
       "0                      0  Android  25648  39402  2098   67148  0.381962   \n",
       "1                      1      iOS  17559  25222  1645   44426  0.395242   \n",
       "2                      2      All  43207  64624  3743  111574  0.387250   \n",
       "\n",
       "gender_preference  1_to_all  2_to_all  \n",
       "0                  0.586793  0.031244  \n",
       "1                  0.567731  0.037028  \n",
       "2                  0.579203  0.033547  "
      ]
     },
     "execution_count": 33,
     "metadata": {},
     "output_type": "execute_result"
    }
   ],
   "source": [
    "gender_pref_df"
   ]
  },
  {
   "cell_type": "code",
   "execution_count": 34,
   "id": "850b4350",
   "metadata": {},
   "outputs": [],
   "source": [
    "#format the data to long format in order to do boxplot\n",
    "gender_pref_df_vis = pd.melt(gender_pref_df, id_vars= 'platform', value_vars = ['0_to_all', '1_to_all',\n",
    "       '2_to_all'])\n",
    "\n",
    "gender_pref_df_vis=gender_pref_df_vis[gender_pref_df_vis.platform!='All']"
   ]
  },
  {
   "cell_type": "code",
   "execution_count": 35,
   "id": "e8316d09",
   "metadata": {},
   "outputs": [
    {
     "data": {
      "text/plain": [
       "Text(0.5, 1.0, 'Gender Preference Distrbution by Platform')"
      ]
     },
     "execution_count": 35,
     "metadata": {},
     "output_type": "execute_result"
    },
    {
     "data": {
      "image/png": "[encoded data removed]",
      "text/plain": [
       "<Figure size 800x400 with 1 Axes>"
      ]
     },
     "metadata": {},
     "output_type": "display_data"
    }
   ],
   "source": [
    "plt.figure(figsize=(8,4))\n",
    "ax = sns.barplot(x = 'platform', y = 'value', \n",
    "            hue = 'gender_preference',\n",
    "            data = gender_pref_df_vis,\n",
    "           palette = 'Blues')\n",
    "plt.ylabel('percentage of user by platform')\n",
    "plt.title('Gender Preference Distrbution by Platform')"
   ]
  },
  {
   "cell_type": "markdown",
   "id": "47ffcf11",
   "metadata": {},
   "source": [
    "### 3.3 Other demographics data by platform\n",
    "\n",
    "- Android and iOS have similar photos per user. They both have around 5 photos per user. \n",
    "- iOS users have 2 miles more in average max distance than Android users (58 - 56)\n",
    "- The average age of Android and iOS are close, Android has an average age of 27 and iOS has average age of 28 \n",
    "- Both Android and iOS users have 14 as their age preference range (`age_pref_max - age_pref_min`)\n",
    "- Android users have average height as 174cm and iOS users have average height as 173cm\n",
    "- They both have dogs and cats rating the same. Both Android and iOS users have average like rating of dogs as 1 and average like rating of cats as 2.\n"
   ]
  },
  {
   "cell_type": "code",
   "execution_count": 36,
   "id": "0d4e5913",
   "metadata": {},
   "outputs": [
    {
     "data": {
      "text/html": [
       "<div>\n",
       "<style scoped>\n",
       "    .dataframe tbody tr th:only-of-type {\n",
       "        vertical-align: middle;\n",
       "    }\n",
       "\n",
       "    .dataframe tbody tr th {\n",
       "        vertical-align: top;\n",
       "    }\n",
       "\n",
       "    .dataframe thead th {\n",
       "        text-align: right;\n",
       "    }\n",
       "</style>\n",
       "<table border=\"1\" class=\"dataframe\">\n",
       "  <thead>\n",
       "    <tr style=\"text-align: right;\">\n",
       "      <th></th>\n",
       "      <th>photos_count</th>\n",
       "      <th>max_distance</th>\n",
       "      <th>age</th>\n",
       "      <th>age_pref_max</th>\n",
       "      <th>age_pref_min</th>\n",
       "      <th>height</th>\n",
       "      <th>dogs</th>\n",
       "      <th>cats</th>\n",
       "    </tr>\n",
       "    <tr>\n",
       "      <th>platform</th>\n",
       "      <th></th>\n",
       "      <th></th>\n",
       "      <th></th>\n",
       "      <th></th>\n",
       "      <th></th>\n",
       "      <th></th>\n",
       "      <th></th>\n",
       "      <th></th>\n",
       "    </tr>\n",
       "  </thead>\n",
       "  <tbody>\n",
       "    <tr>\n",
       "      <th>Android</th>\n",
       "      <td>5.0</td>\n",
       "      <td>56.0</td>\n",
       "      <td>27.0</td>\n",
       "      <td>37.0</td>\n",
       "      <td>23.0</td>\n",
       "      <td>174.0</td>\n",
       "      <td>1.0</td>\n",
       "      <td>2.0</td>\n",
       "    </tr>\n",
       "    <tr>\n",
       "      <th>iOS</th>\n",
       "      <td>5.0</td>\n",
       "      <td>58.0</td>\n",
       "      <td>28.0</td>\n",
       "      <td>38.0</td>\n",
       "      <td>24.0</td>\n",
       "      <td>173.0</td>\n",
       "      <td>1.0</td>\n",
       "      <td>2.0</td>\n",
       "    </tr>\n",
       "  </tbody>\n",
       "</table>\n",
       "</div>"
      ],
      "text/plain": [
       "          photos_count  max_distance   age  age_pref_max  age_pref_min  \\\n",
       "platform                                                                 \n",
       "Android            5.0          56.0  27.0          37.0          23.0   \n",
       "iOS                5.0          58.0  28.0          38.0          24.0   \n",
       "\n",
       "          height  dogs  cats  \n",
       "platform                      \n",
       "Android    174.0   1.0   2.0  \n",
       "iOS        173.0   1.0   2.0  "
      ]
     },
     "execution_count": 36,
     "metadata": {},
     "output_type": "execute_result"
    }
   ],
   "source": [
    "round(user_df.groupby('platform').mean())[['photos_count', 'max_distance', 'age', 'age_pref_max','age_pref_min',\n",
    "                                          'height','dogs',\t'cats']]"
   ]
  },
  {
   "cell_type": "markdown",
   "id": "92995e1d",
   "metadata": {},
   "source": [
    "### 3.4 Users' education attained"
   ]
  },
  {
   "cell_type": "markdown",
   "id": "d000da55",
   "metadata": {},
   "source": [
    "- 46% of Android users have education level of 1, iOS users have 43% of users in education 1\n",
    "- 23% of Android users have education 2, iOS users have 22% users in education 2, the percentage of users in education 2 are close\n",
    "- iOS users have 22% users in education 3, which is 2% higher than Android's corresponding number (19%)\n",
    "- Since education attained is nominal and higher number doesn't necessarily mean more education, it's hard to draw precious conclusions from education data. We can tell both Android and iOS users have similar distribution on education attained in general. "
   ]
  },
  {
   "cell_type": "code",
   "execution_count": 37,
   "id": "1fb55c70",
   "metadata": {},
   "outputs": [],
   "source": [
    "user_df.education_attained = user_df.education_attained.astype('object')\n",
    "\n",
    "edu_df = pd.DataFrame(user_df.groupby(['platform','education_attained']).nunique()['user_id'])\n",
    "\n",
    "edu_df.reset_index(inplace=True)\n",
    "\n",
    "edu_df_piv = pd.pivot_table(edu_df, values = 'user_id', index = 'platform', columns = ['education_attained'], \n",
    "               aggfunc = np.sum , margins=True)"
   ]
  },
  {
   "cell_type": "code",
   "execution_count": 38,
   "id": "cc7d0934",
   "metadata": {},
   "outputs": [
    {
     "data": {
      "text/html": [
       "<div>\n",
       "<style scoped>\n",
       "    .dataframe tbody tr th:only-of-type {\n",
       "        vertical-align: middle;\n",
       "    }\n",
       "\n",
       "    .dataframe tbody tr th {\n",
       "        vertical-align: top;\n",
       "    }\n",
       "\n",
       "    .dataframe thead th {\n",
       "        text-align: right;\n",
       "    }\n",
       "</style>\n",
       "<table border=\"1\" class=\"dataframe\">\n",
       "  <thead>\n",
       "    <tr style=\"text-align: right;\">\n",
       "      <th>education_attained</th>\n",
       "      <th>0.0</th>\n",
       "      <th>1.0</th>\n",
       "      <th>2.0</th>\n",
       "      <th>3.0</th>\n",
       "      <th>All</th>\n",
       "    </tr>\n",
       "    <tr>\n",
       "      <th>platform</th>\n",
       "      <th></th>\n",
       "      <th></th>\n",
       "      <th></th>\n",
       "      <th></th>\n",
       "      <th></th>\n",
       "    </tr>\n",
       "  </thead>\n",
       "  <tbody>\n",
       "    <tr>\n",
       "      <th>Android</th>\n",
       "      <td>8079</td>\n",
       "      <td>31128</td>\n",
       "      <td>15220</td>\n",
       "      <td>12810</td>\n",
       "      <td>67237</td>\n",
       "    </tr>\n",
       "    <tr>\n",
       "      <th>iOS</th>\n",
       "      <td>6224</td>\n",
       "      <td>18970</td>\n",
       "      <td>9717</td>\n",
       "      <td>9574</td>\n",
       "      <td>44485</td>\n",
       "    </tr>\n",
       "    <tr>\n",
       "      <th>All</th>\n",
       "      <td>14303</td>\n",
       "      <td>50098</td>\n",
       "      <td>24937</td>\n",
       "      <td>22384</td>\n",
       "      <td>111722</td>\n",
       "    </tr>\n",
       "  </tbody>\n",
       "</table>\n",
       "</div>"
      ],
      "text/plain": [
       "education_attained    0.0    1.0    2.0    3.0     All\n",
       "platform                                              \n",
       "Android              8079  31128  15220  12810   67237\n",
       "iOS                  6224  18970   9717   9574   44485\n",
       "All                 14303  50098  24937  22384  111722"
      ]
     },
     "execution_count": 38,
     "metadata": {},
     "output_type": "execute_result"
    }
   ],
   "source": [
    "edu_df_piv"
   ]
  },
  {
   "cell_type": "code",
   "execution_count": 39,
   "id": "7775b65d",
   "metadata": {},
   "outputs": [],
   "source": [
    "#calculate percentage of users in each education attained by platform\n",
    "edu_df_piv['0 to all'] =edu_df_piv[0.0] / edu_df_piv['All']\n",
    "edu_df_piv['1 to all'] =edu_df_piv[1.0] / edu_df_piv['All']\n",
    "edu_df_piv['2 to all'] =edu_df_piv[2.0] / edu_df_piv['All']\n",
    "edu_df_piv['3 to all'] =edu_df_piv[3.0] / edu_df_piv['All']\n",
    "\n",
    "edu_df_piv.reset_index(inplace=True)\n",
    "\n",
    "edu_df_vis = pd.melt(edu_df_piv, id_vars= 'platform', value_vars = ['0 to all', '1 to all', '2 to all',\n",
    "       '3 to all'])\n",
    "\n",
    "edu_df_vis = edu_df_vis[edu_df_vis.platform!='All']\n",
    "\n",
    "edu_df_vis = round(edu_df_vis, 2)"
   ]
  },
  {
   "cell_type": "code",
   "execution_count": 40,
   "id": "cb70b6fa",
   "metadata": {},
   "outputs": [
    {
     "data": {
      "text/plain": [
       "Text(0.5, 1.0, 'Education Attained Distrbution by Platform')"
      ]
     },
     "execution_count": 40,
     "metadata": {},
     "output_type": "execute_result"
    },
    {
     "data": {
      "image/png": "[encoded data removed]",
      "text/plain": [
       "<Figure size 800x400 with 1 Axes>"
      ]
     },
     "metadata": {},
     "output_type": "display_data"
    }
   ],
   "source": [
    "plt.figure(figsize=(8,4))\n",
    "ax = sns.barplot(x = 'platform', y = 'value', \n",
    "            hue = 'education_attained',\n",
    "            data = edu_df_vis,\n",
    "           palette = 'Blues')\n",
    "\n",
    "plt.ylabel('Percentage of users by segment', size='12')\n",
    "plt.title('Education Attained Distrbution by Platform')"
   ]
  },
  {
   "cell_type": "markdown",
   "id": "eab860b8",
   "metadata": {},
   "source": [
    "### 3.5 Behavioral data analysis - How long does it take from registration to profile completion for iOS and Android users?\n",
    "\n",
    "- It takes 300 seconds per user from Android users complete their profile since registration, and 299 seconds for iOS users. \n",
    "- Android and iOS users have similar average seconds per user from registration to profile completion "
   ]
  },
  {
   "cell_type": "code",
   "execution_count": 41,
   "id": "95b514cc",
   "metadata": {},
   "outputs": [],
   "source": [
    "difference = user_df.profile_completion_ts- user_df.registration_ts"
   ]
  },
  {
   "cell_type": "code",
   "execution_count": 42,
   "id": "004c5fec",
   "metadata": {},
   "outputs": [],
   "source": [
    "user_df['reg_com_diff'] = difference.dt.seconds"
   ]
  },
  {
   "cell_type": "code",
   "execution_count": 43,
   "id": "8851df45",
   "metadata": {},
   "outputs": [],
   "source": [
    "reg_com_diff_df = user_df[['user_id', 'platform', 'registration_ts', 'profile_completion_ts','reg_com_diff']]"
   ]
  },
  {
   "cell_type": "code",
   "execution_count": 44,
   "id": "08536bae",
   "metadata": {},
   "outputs": [
    {
     "data": {
      "text/html": [
       "<div>\n",
       "<style scoped>\n",
       "    .dataframe tbody tr th:only-of-type {\n",
       "        vertical-align: middle;\n",
       "    }\n",
       "\n",
       "    .dataframe tbody tr th {\n",
       "        vertical-align: top;\n",
       "    }\n",
       "\n",
       "    .dataframe thead th {\n",
       "        text-align: right;\n",
       "    }\n",
       "</style>\n",
       "<table border=\"1\" class=\"dataframe\">\n",
       "  <thead>\n",
       "    <tr style=\"text-align: right;\">\n",
       "      <th></th>\n",
       "      <th>user_id</th>\n",
       "      <th>reg_com_diff</th>\n",
       "    </tr>\n",
       "    <tr>\n",
       "      <th>platform</th>\n",
       "      <th></th>\n",
       "      <th></th>\n",
       "    </tr>\n",
       "  </thead>\n",
       "  <tbody>\n",
       "    <tr>\n",
       "      <th>Android</th>\n",
       "      <td>126141.007362</td>\n",
       "      <td>300.451947</td>\n",
       "    </tr>\n",
       "    <tr>\n",
       "      <th>iOS</th>\n",
       "      <td>125815.363508</td>\n",
       "      <td>299.028908</td>\n",
       "    </tr>\n",
       "  </tbody>\n",
       "</table>\n",
       "</div>"
      ],
      "text/plain": [
       "                user_id  reg_com_diff\n",
       "platform                             \n",
       "Android   126141.007362    300.451947\n",
       "iOS       125815.363508    299.028908"
      ]
     },
     "execution_count": 44,
     "metadata": {},
     "output_type": "execute_result"
    }
   ],
   "source": [
    "reg_com_diff_df.groupby('platform').mean()"
   ]
  },
  {
   "cell_type": "markdown",
   "id": "0ada1c6e",
   "metadata": {},
   "source": [
    "### 3.6 Behavioral data analysis - In App Behavior\n",
    "\n",
    "As In-app behavior can help us understand users' behavior across platform, I'd like to take a look at metrics from users' registration date to registration date + 48 hours (end of the next day conversion window) to coincide with Q2's retention rate calculation. \n",
    "\n",
    "Metrics: \n",
    "- `Number of likes and skips per user within the next day conversion window` by platform\n",
    "- `Number of likes per user within the next day conversion window` by platform\n",
    "- `Number of skips per user within the next day conversion window` by platform\n",
    "- `Number of likes and skips per user within the next day conversion window` by retention indicator and platform \n",
    "- `Number of likes per user within the next day conversion window` by retention indicator and platform \n",
    "- `Number of skips per user within the next day conversion window` by retention indicator and platform \n"
   ]
  },
  {
   "cell_type": "markdown",
   "id": "1c2dd9bf",
   "metadata": {},
   "source": [
    "**Findings**"
   ]
  },
  {
   "cell_type": "markdown",
   "id": "ef635fa7",
   "metadata": {},
   "source": [
    "- `Number of likes and skips per user within the next day conversion window by platform`\n",
    "    - Android: 268\n",
    "    - iOS: 275\n",
    "    - iOS has higher likes and skips per user within the next day conversion window than Android\n",
    "- `Number of likes per user within the next day conversion window by platform`\n",
    "    - Android: 46\n",
    "    - iOS: 48\n",
    "    - iOS has higher likes per user than Android\n",
    "- `Number of skips per user within the next day conversion window by platform`\n",
    "    - Android: 228\n",
    "    - iOS: 234\n",
    "    - iOS has higher skips per user than Android"
   ]
  },
  {
   "cell_type": "markdown",
   "id": "e33f010b",
   "metadata": {},
   "source": [
    "- `Number of likes and skips per user within the next day conversion window` by retention indicator and platform\n",
    "    - Android Next-day retained users: 342\n",
    "    - Android Next-day churned users: 78\n",
    "    - iOS Next-day retained users: 357\n",
    "    - iOS Next-day churned users: 80\n",
    "    - iOS has higher number of likes and skips per user than Android even we group it by retained/churned users.\n",
    "    \n",
    "    </br>\n",
    "    \n",
    "- `Number of likes per user within the next day conversion window` by retention indicator and platform\n",
    "    - Android Next-day retained users: 56\n",
    "    - Android Next-day churned users: 18\n",
    "    - iOS Next-day retained users: 59\n",
    "    - iOS Next-day churned users: 19\n",
    "    - iOS has higher number of likes per user than Android even we group it by retained/churned users\n",
    "    \n",
    "    </br>\n",
    "- `Number of skips per user within the next day conversion window` by retention indicator and platform\n",
    "    - Android Next-day retained users: 287 \n",
    "    - Android Next-day churned users: 66\n",
    "    - iOS Next-day retained users: 301\n",
    "    - iOS Next-day churned users: 68\n",
    "    - iOS has higher number of skips per user than Android even we group it by retained/churned users\n",
    "    \n",
    "    </br>\n",
    "- Overall, Retained users have higher `Number of skips per user` , `Number of likes per user` and `Number of likes and skips per user`. If we compare metrics by platform, we see iOS has higher behavioral/engagement metrics than Android, which sounds counterintuitive from my conclusion in Q2 that Android has higher retention rate than iOS. In reality, I would collect more data to learn more about user behavior. "
   ]
  },
  {
   "cell_type": "code",
   "execution_count": 45,
   "id": "e93491e6",
   "metadata": {},
   "outputs": [],
   "source": [
    "user_registration_date = user_rating_df[['user_id', 'registration_ts']].groupby(by = ['user_id']).min().reset_index()"
   ]
  },
  {
   "cell_type": "code",
   "execution_count": 46,
   "id": "f98c8859",
   "metadata": {},
   "outputs": [],
   "source": [
    "#we want to count users behavior b/w registration date and registration date + 48 hours \n",
    "user_registration_date['max_bound'] = user_registration_date['registration_ts'] + timedelta(hours = 48)"
   ]
  },
  {
   "cell_type": "code",
   "execution_count": 47,
   "id": "e4b687fd",
   "metadata": {},
   "outputs": [],
   "source": [
    "Day1_likes_df = pd.merge(user_registration_date, user_rating_df, how = 'left' , on ='user_id')[['user_id', 'registration_ts_x',\n",
    "                                                                                'max_bound','platform',\n",
    "                                                                               'rating_type','ts_minute','ct','Day1_active']]"
   ]
  },
  {
   "cell_type": "code",
   "execution_count": 48,
   "id": "3132ac3c",
   "metadata": {},
   "outputs": [],
   "source": [
    "#filter likes or skip event within the conversion time range\n",
    "\n",
    "Day1_active_df = Day1_likes_df[(Day1_likes_df.ts_minute >= Day1_likes_df.registration_ts_x) & (Day1_likes_df.ts_minute <= Day1_likes_df.max_bound )]"
   ]
  },
  {
   "cell_type": "markdown",
   "id": "f8146c42",
   "metadata": {},
   "source": [
    "`Number of likes and skips per user within the next day conversion window by platform`"
   ]
  },
  {
   "cell_type": "code",
   "execution_count": 49,
   "id": "a61d38a7",
   "metadata": {},
   "outputs": [
    {
     "data": {
      "text/plain": [
       "platform\n",
       "Android    268.0\n",
       "iOS        275.0\n",
       "dtype: float64"
      ]
     },
     "execution_count": 49,
     "metadata": {},
     "output_type": "execute_result"
    }
   ],
   "source": [
    "round(Day1_active_df.groupby(['platform']).sum()['ct'] / Day1_active_df.groupby(['platform']).nunique()['user_id'])"
   ]
  },
  {
   "cell_type": "markdown",
   "id": "7fb00dcd",
   "metadata": {},
   "source": [
    "`Number of likes per user within the next day conversion window` by platform </br>\n",
    "`Number of skips per user within the next day conversion window` by platform"
   ]
  },
  {
   "cell_type": "code",
   "execution_count": 50,
   "id": "d57ad989",
   "metadata": {},
   "outputs": [
    {
     "data": {
      "text/plain": [
       "platform  rating_type\n",
       "Android   0.0            228.0\n",
       "          1.0             46.0\n",
       "iOS       0.0            234.0\n",
       "          1.0             48.0\n",
       "dtype: float64"
      ]
     },
     "execution_count": 50,
     "metadata": {},
     "output_type": "execute_result"
    }
   ],
   "source": [
    "#get number of count by platform \n",
    "round(Day1_active_df.groupby(['platform', 'rating_type']).sum()['ct'] / Day1_active_df.groupby(['platform', 'rating_type']).nunique()['user_id'])"
   ]
  },
  {
   "cell_type": "markdown",
   "id": "35412be1",
   "metadata": {},
   "source": [
    "**Metrics by retention indicator and platform**"
   ]
  },
  {
   "cell_type": "code",
   "execution_count": 51,
   "id": "22aad3ce",
   "metadata": {},
   "outputs": [],
   "source": [
    "#get number of count by platform \n",
    "Day1_active_agg = pd.DataFrame(Day1_active_df.groupby(['platform', 'rating_type', 'Day1_active']).sum()['ct'] / Day1_active_df.groupby(['platform', 'rating_type','Day1_active']).nunique()['user_id'])"
   ]
  },
  {
   "cell_type": "code",
   "execution_count": 52,
   "id": "154479fc",
   "metadata": {},
   "outputs": [],
   "source": [
    "Day1_active_agg.reset_index(inplace=True)"
   ]
  },
  {
   "cell_type": "code",
   "execution_count": 53,
   "id": "8ee84946",
   "metadata": {},
   "outputs": [
    {
     "data": {
      "text/plain": [
       "Index(['platform', 'rating_type', 'Day1_active', 0], dtype='object')"
      ]
     },
     "execution_count": 53,
     "metadata": {},
     "output_type": "execute_result"
    }
   ],
   "source": [
    "Day1_active_agg.columns"
   ]
  },
  {
   "cell_type": "code",
   "execution_count": 54,
   "id": "b35d543b",
   "metadata": {},
   "outputs": [],
   "source": [
    "Day1_active_agg.rename(columns = {0:\"Ratings per user\"}, inplace=True)"
   ]
  },
  {
   "cell_type": "code",
   "execution_count": 55,
   "id": "e4f3fc74",
   "metadata": {},
   "outputs": [],
   "source": [
    "Day1_active_agg.rename(columns = {'Day1_active':\"Retention Indicator\"}, inplace=True)"
   ]
  },
  {
   "cell_type": "code",
   "execution_count": 56,
   "id": "626e9bcd",
   "metadata": {},
   "outputs": [
    {
     "data": {
      "text/html": [
       "<div>\n",
       "<style scoped>\n",
       "    .dataframe tbody tr th:only-of-type {\n",
       "        vertical-align: middle;\n",
       "    }\n",
       "\n",
       "    .dataframe tbody tr th {\n",
       "        vertical-align: top;\n",
       "    }\n",
       "\n",
       "    .dataframe thead th {\n",
       "        text-align: right;\n",
       "    }\n",
       "</style>\n",
       "<table border=\"1\" class=\"dataframe\">\n",
       "  <thead>\n",
       "    <tr style=\"text-align: right;\">\n",
       "      <th></th>\n",
       "      <th>platform</th>\n",
       "      <th>rating_type</th>\n",
       "      <th>Retention Indicator</th>\n",
       "      <th>Ratings per user</th>\n",
       "    </tr>\n",
       "  </thead>\n",
       "  <tbody>\n",
       "    <tr>\n",
       "      <th>0</th>\n",
       "      <td>Android</td>\n",
       "      <td>0.0</td>\n",
       "      <td>0</td>\n",
       "      <td>66.0</td>\n",
       "    </tr>\n",
       "    <tr>\n",
       "      <th>1</th>\n",
       "      <td>Android</td>\n",
       "      <td>0.0</td>\n",
       "      <td>1</td>\n",
       "      <td>287.0</td>\n",
       "    </tr>\n",
       "    <tr>\n",
       "      <th>2</th>\n",
       "      <td>Android</td>\n",
       "      <td>1.0</td>\n",
       "      <td>0</td>\n",
       "      <td>18.0</td>\n",
       "    </tr>\n",
       "    <tr>\n",
       "      <th>3</th>\n",
       "      <td>Android</td>\n",
       "      <td>1.0</td>\n",
       "      <td>1</td>\n",
       "      <td>56.0</td>\n",
       "    </tr>\n",
       "    <tr>\n",
       "      <th>4</th>\n",
       "      <td>iOS</td>\n",
       "      <td>0.0</td>\n",
       "      <td>0</td>\n",
       "      <td>68.0</td>\n",
       "    </tr>\n",
       "    <tr>\n",
       "      <th>5</th>\n",
       "      <td>iOS</td>\n",
       "      <td>0.0</td>\n",
       "      <td>1</td>\n",
       "      <td>301.0</td>\n",
       "    </tr>\n",
       "    <tr>\n",
       "      <th>6</th>\n",
       "      <td>iOS</td>\n",
       "      <td>1.0</td>\n",
       "      <td>0</td>\n",
       "      <td>19.0</td>\n",
       "    </tr>\n",
       "    <tr>\n",
       "      <th>7</th>\n",
       "      <td>iOS</td>\n",
       "      <td>1.0</td>\n",
       "      <td>1</td>\n",
       "      <td>59.0</td>\n",
       "    </tr>\n",
       "  </tbody>\n",
       "</table>\n",
       "</div>"
      ],
      "text/plain": [
       "  platform  rating_type  Retention Indicator  Ratings per user\n",
       "0  Android          0.0                    0              66.0\n",
       "1  Android          0.0                    1             287.0\n",
       "2  Android          1.0                    0              18.0\n",
       "3  Android          1.0                    1              56.0\n",
       "4      iOS          0.0                    0              68.0\n",
       "5      iOS          0.0                    1             301.0\n",
       "6      iOS          1.0                    0              19.0\n",
       "7      iOS          1.0                    1              59.0"
      ]
     },
     "execution_count": 56,
     "metadata": {},
     "output_type": "execute_result"
    }
   ],
   "source": [
    "round(Day1_active_agg)"
   ]
  },
  {
   "cell_type": "code",
   "execution_count": 57,
   "id": "c2cbb842",
   "metadata": {},
   "outputs": [
    {
     "data": {
      "text/html": [
       "<div>\n",
       "<style scoped>\n",
       "    .dataframe tbody tr th:only-of-type {\n",
       "        vertical-align: middle;\n",
       "    }\n",
       "\n",
       "    .dataframe tbody tr th {\n",
       "        vertical-align: top;\n",
       "    }\n",
       "\n",
       "    .dataframe thead th {\n",
       "        text-align: right;\n",
       "    }\n",
       "</style>\n",
       "<table border=\"1\" class=\"dataframe\">\n",
       "  <thead>\n",
       "    <tr style=\"text-align: right;\">\n",
       "      <th></th>\n",
       "      <th>platform</th>\n",
       "      <th>rating_type</th>\n",
       "      <th>Retention Indicator</th>\n",
       "      <th>Ratings per user</th>\n",
       "    </tr>\n",
       "  </thead>\n",
       "  <tbody>\n",
       "    <tr>\n",
       "      <th>0</th>\n",
       "      <td>Android</td>\n",
       "      <td>0.0</td>\n",
       "      <td>0</td>\n",
       "      <td>66.0</td>\n",
       "    </tr>\n",
       "    <tr>\n",
       "      <th>1</th>\n",
       "      <td>Android</td>\n",
       "      <td>0.0</td>\n",
       "      <td>1</td>\n",
       "      <td>287.0</td>\n",
       "    </tr>\n",
       "    <tr>\n",
       "      <th>4</th>\n",
       "      <td>iOS</td>\n",
       "      <td>0.0</td>\n",
       "      <td>0</td>\n",
       "      <td>68.0</td>\n",
       "    </tr>\n",
       "    <tr>\n",
       "      <th>5</th>\n",
       "      <td>iOS</td>\n",
       "      <td>0.0</td>\n",
       "      <td>1</td>\n",
       "      <td>301.0</td>\n",
       "    </tr>\n",
       "  </tbody>\n",
       "</table>\n",
       "</div>"
      ],
      "text/plain": [
       "  platform  rating_type  Retention Indicator  Ratings per user\n",
       "0  Android          0.0                    0              66.0\n",
       "1  Android          0.0                    1             287.0\n",
       "4      iOS          0.0                    0              68.0\n",
       "5      iOS          0.0                    1             301.0"
      ]
     },
     "execution_count": 57,
     "metadata": {},
     "output_type": "execute_result"
    }
   ],
   "source": [
    "round(Day1_active_agg[Day1_active_agg.rating_type != 1.0])"
   ]
  },
  {
   "cell_type": "code",
   "execution_count": 58,
   "id": "f0a130c1",
   "metadata": {},
   "outputs": [
    {
     "data": {
      "text/html": [
       "<div>\n",
       "<style scoped>\n",
       "    .dataframe tbody tr th:only-of-type {\n",
       "        vertical-align: middle;\n",
       "    }\n",
       "\n",
       "    .dataframe tbody tr th {\n",
       "        vertical-align: top;\n",
       "    }\n",
       "\n",
       "    .dataframe thead th {\n",
       "        text-align: right;\n",
       "    }\n",
       "</style>\n",
       "<table border=\"1\" class=\"dataframe\">\n",
       "  <thead>\n",
       "    <tr style=\"text-align: right;\">\n",
       "      <th></th>\n",
       "      <th></th>\n",
       "      <th>0</th>\n",
       "    </tr>\n",
       "    <tr>\n",
       "      <th>platform</th>\n",
       "      <th>Day1_active</th>\n",
       "      <th></th>\n",
       "    </tr>\n",
       "  </thead>\n",
       "  <tbody>\n",
       "    <tr>\n",
       "      <th rowspan=\"2\" valign=\"top\">Android</th>\n",
       "      <th>0</th>\n",
       "      <td>78.0</td>\n",
       "    </tr>\n",
       "    <tr>\n",
       "      <th>1</th>\n",
       "      <td>342.0</td>\n",
       "    </tr>\n",
       "    <tr>\n",
       "      <th rowspan=\"2\" valign=\"top\">iOS</th>\n",
       "      <th>0</th>\n",
       "      <td>80.0</td>\n",
       "    </tr>\n",
       "    <tr>\n",
       "      <th>1</th>\n",
       "      <td>357.0</td>\n",
       "    </tr>\n",
       "  </tbody>\n",
       "</table>\n",
       "</div>"
      ],
      "text/plain": [
       "                          0\n",
       "platform Day1_active       \n",
       "Android  0             78.0\n",
       "         1            342.0\n",
       "iOS      0             80.0\n",
       "         1            357.0"
      ]
     },
     "execution_count": 58,
     "metadata": {},
     "output_type": "execute_result"
    }
   ],
   "source": [
    "round(pd.DataFrame(Day1_active_df.groupby(['platform', 'Day1_active']).sum()['ct'] / Day1_active_df.groupby(['platform','Day1_active']).nunique()['user_id']))"
   ]
  },
  {
   "cell_type": "code",
   "execution_count": 59,
   "id": "75addf54",
   "metadata": {},
   "outputs": [
    {
     "data": {
      "text/plain": [
       "Text(0.5, 1.0, 'Number of Ratings Per User by Retained and Churned user')"
      ]
     },
     "execution_count": 59,
     "metadata": {},
     "output_type": "execute_result"
    },
    {
     "data": {
      "image/png": "[encoded data removed]",
      "text/plain": [
       "<Figure size 800x400 with 1 Axes>"
      ]
     },
     "metadata": {},
     "output_type": "display_data"
    }
   ],
   "source": [
    "plt.figure(figsize=(8,4))\n",
    "\n",
    "ax = sns.barplot(x = \"Retention Indicator\", y = 'Ratings per user', hue = 'platform', data =Day1_active_agg, palette = 'Blues' )\n",
    "plt.title('Number of Ratings Per User by Retained and Churned user')"
   ]
  },
  {
   "cell_type": "markdown",
   "id": "86e345ac",
   "metadata": {},
   "source": [
    "----\n",
    "<a id='Question4'></a>\n",
    "## Question 4 Design an experiment to improve the retention rate for all users. \n",
    "a. Your hypothesis </br>\n",
    "b. A description of the variants of your experiment</br>\n",
    "c. The primary outcomes you'll use to evaluate your experiment</br>\n",
    "d. Any other information you think will be useful for your PM</br>\n",
    "\n",
    "\n",
    "[[ go back to the top ]](#Table-of-contents)"
   ]
  },
  {
   "cell_type": "markdown",
   "id": "6f82a93f",
   "metadata": {},
   "source": [
    "**Step 1. Define the successful metric** \n",
    "</br>\n",
    "Successful metric needs to be 100% correlated with business objective. Since we are designing an experiment to improve the retention rate for all users, our business objective is to improve the retention rate. So I'd recommend setting retention rate as the successful metric.\n",
    "We also need to define guardrail metrics because it can help us understand the AB test performance holistically. I'd set user engagement metrics, app latency, app crashes, and revenue as guardrail metrics.\n",
    " </br>\n",
    "- User engagement metrics should describe users' in-app engagement:\n",
    "    - Number of events per user per session (Assume event means each in-app behavior users trigger, it could be likes or skips, or clicking any button in the app)\n",
    "    - Number of sessions per user\n",
    "    - Average Session time per user\n",
    "    - Number of likes and skips per user\n",
    "    - Number of likes per user\n",
    "    - Number of skips per user\n",
    "\n",
    "\n",
    "- Metrics measure app crashes, latency \n",
    "    - High latency affects user behavior and satisfaction, the higher the latency, the lower users satisfaction\n",
    "    - App Crashes also need to be measured, we wanted to make sure the app works fine during the experiment\n",
    "\n",
    "- Revenue\n",
    "    - Revenue measures the health of the business earnings. "
   ]
  },
  {
   "cell_type": "markdown",
   "id": "050cbd7a",
   "metadata": {},
   "source": [
    "**Step 2. Hypothesis Testing**\n",
    "</br>\n",
    "According to the EDA in Q3, I've found that retained users have a higher `Number of skips per user , Number of likes per user, and Number of likes and skips per user`. It seems like more likes per user, the higher the retention rate. So I'd like to design an AB test to test if increasing the size of the like icon would increase the retention rate for all users. (Increasing the size of the like icon would make it more obvious for users, so it could increase users' engagement)\n",
    "</br>\n",
    "\n",
    "I'd set the control as the current app version, and the variant has a larger like icon size, the rest of the design should stay identical between the control and variant.\n",
    "</br>\n",
    "\n",
    "**Null Hypothesis (H0)**: The retention rate between the control and variant are the same. </br>\n",
    "**Alternative Hypothesis (Ha)**: The retention rate between the control and variant are different. </br>\n",
    "</br>\n",
    "**Set the significance level** </br>\n",
    "Alpha = 0.05 </br>\n",
    "Statistical Power= 0.8 </br>\n",
    "MDE = 1%\n",
    "Minimum detectable effect (MDE): when setting MDE, I'd extract past three months data as the baseline, and talk to the PM to see how much increase in retention rate do we expect. Let's assume the MDE in this experiment is 1%, so it means that if the change is at least 1% higher in retention rate then it's practially significant.  </br> \n",
    "\n"
   ]
  },
  {
   "cell_type": "markdown",
   "id": "fe273a7b",
   "metadata": {},
   "source": [
    "**Step 3. Design the experiment** </br>\n",
    "- Randomization Unit: we will use users as randomization unit. The AB testing platform should randomly assign new users to control and variant groups.  </br>\n",
    "\n",
    "- Target population in the experiment: All Hinge new users who have completed their profiles and have reached the \"Discover Screen\" to view other users' profile. \n",
    "    - The reason for choosing new users is because it would eliminate novelty effect. And choosing users who have completed their profiles because I found only users who have completed profile are able to click likes or skips. I also wanted to make sure those users have reached the \"Discover Screen\" and view others' profile, otherwise, users who haven't viewed others' profile will be counted and dilute the successful metrics.</br>\n",
    "\n",
    "- Determine the sample size: we can use n = 16 * sample variance /delta to calculate the minimum sample size. In reality, we should always consider weekly effect, so running 1 to 2 weeks (whole weeks) is recommended."
   ]
  },
  {
   "cell_type": "markdown",
   "id": "34d545d8",
   "metadata": {},
   "source": [
    "**Step 4. Run the experiment** </br>\n",
    "After the experiment runs, I'd suggest to PM do not peek at p-values during the experiment because it would increase false positive rate. I'd suggest to the PM to look at the data after the experiment ends. "
   ]
  },
  {
   "cell_type": "markdown",
   "id": "491cb8ec",
   "metadata": {},
   "source": [
    "**Step 5. Validity Checks** </br>\n",
    "After the experiment, I'd check guardrail metrics and see if anything is alarming. What's more, checking if there are holidays, compeitition, economic disruptions etc. </br>\n",
    "Also, Data scientist should run Sample ratio mismatch test to make sure no mismatch between the expected sample ratio and observed sample ratio. "
   ]
  },
  {
   "cell_type": "markdown",
   "id": "f7a818cc",
   "metadata": {},
   "source": [
    "**Step 6. Interpret result and launch descision** </br>\n",
    "After the validity checks, we could extract the control and variant success metrics by group and compare them, we can calculate `Absolute difference` , `Relative Difference` and get its p-value through a statistical test. A p-value lower than alpha (0.05) means we are confident to reject the null hypothesis and conclude that the retention rate between control and variant are different. </br>\n",
    "\n",
    "After that, we should talk to PM and engineering team to understand if the costs are high for launching the change. Costs include the cost to build the feature and the cost for ongoing engineering maintenance. </br>\n",
    "\n",
    "- When costs are high, the benefit of launching the change should outweigh the cost. \n",
    "- When costs are low, as long as we are confident to reject the null hypothesis, we should launch any positive changes.  "
   ]
  }
 ],
 "metadata": {
  "kernelspec": {
   "display_name": "Python 3 (ipykernel)",
   "language": "python",
   "name": "python3"
  },
  "language_info": {
   "codemirror_mode": {
    "name": "ipython",
    "version": 3
   },
   "file_extension": ".py",
   "mimetype": "text/x-python",
   "name": "python",
   "nbconvert_exporter": "python",
   "pygments_lexer": "ipython3",
   "version": "3.9.13"
  }
 },
 "nbformat": 4,
 "nbformat_minor": 5
}
